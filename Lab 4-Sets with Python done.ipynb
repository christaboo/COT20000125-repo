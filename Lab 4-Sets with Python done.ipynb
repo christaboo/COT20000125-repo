{
 "cells": [
  {
   "cell_type": "markdown",
   "id": "207a3194-6f3e-45b8-8a7b-307e35c6026d",
   "metadata": {},
   "source": [
    "# Lab 4 - Sets with Python\n",
    "### COT2000 - Spring 2025"
   ]
  },
  {
   "cell_type": "markdown",
   "id": "b4da7443-64e6-4938-aafe-27bc28e0dee6",
   "metadata": {},
   "source": [
    "### Introduction to Sets in Python\n",
    "\n",
    "In Python, a set is an unordered collection of unique elements. Sets are defined using curly braces `{}` and can be used to perform various operations like union, intersection, and difference. Sets are useful for membership testing and eliminating duplicate entries. Here is an example of how to create and display a set:\n"
   ]
  },
  {
   "cell_type": "code",
   "execution_count": 1,
   "id": "977bcc1d-deb9-4c4d-acaa-76a2b20e43d6",
   "metadata": {},
   "outputs": [
    {
     "name": "stdout",
     "output_type": "stream",
     "text": [
      "{1, 2, 3, 4, 5}\n",
      "{1, 2, 3, 4, 5, 6, 7, 8}\n"
     ]
    }
   ],
   "source": [
    "\n",
    "my_set = {1, 2, 3, 4, 5} \n",
    "print(my_set) \n",
    "\n",
    "\n",
    "my_set.add(6)\n",
    "my_set.add(7)\n",
    "my_set.add(8)\n",
    "\n",
    "\n",
    "print(my_set)\n"
   ]
  },
  {
   "cell_type": "markdown",
   "id": "f9308a5d-46ee-470c-90fc-b37cab49d974",
   "metadata": {},
   "source": [
    "### Membership Testing\n",
    "\n",
    "Sets in Python are particularly useful for testing membership, i.e., checking whether an element is in a set. This operation is very efficient. Here is an example of how to test if specific elements are present in a set:\n"
   ]
  },
  {
   "cell_type": "code",
   "execution_count": 2,
   "id": "5b487025-40a8-43cb-9269-3ef9fc9d0d71",
   "metadata": {},
   "outputs": [
    {
     "name": "stdout",
     "output_type": "stream",
     "text": [
      "True\n",
      "True\n",
      "True\n",
      "False\n",
      "True\n",
      "False\n"
     ]
    }
   ],
   "source": [
    "\n",
    "print(4 in my_set)  \n",
    "print(8 in my_set)  \n",
    "\n",
    "\n",
    "print(1 in my_set)  \n",
    "print(10 in my_set)  \n",
    "print(5 in my_set)  \n",
    "print(9 in my_set)  \n"
   ]
  },
  {
   "cell_type": "markdown",
   "id": "9bf2910a-6fe6-4cf5-ae4f-32a76107f597",
   "metadata": {},
   "source": [
    "### Subset and Superset Operations\n",
    "\n",
    "A set `A` is a subset of set `B` if all elements of `A` are also elements of `B`. Similarly, `B` is a superset of `A`. Python provides methods to check these relationships. Here is how you can check if one set is a subset or a superset of another:\n"
   ]
  },
  {
   "cell_type": "code",
   "execution_count": 3,
   "id": "102c23c0-5e09-4b2d-bf58-eaf7a105eaea",
   "metadata": {},
   "outputs": [
    {
     "name": "stdout",
     "output_type": "stream",
     "text": [
      "True\n",
      "True\n",
      "True\n",
      "True\n",
      "False\n",
      "False\n"
     ]
    }
   ],
   "source": [
    "\n",
    "subset = {1, 2}  \n",
    "print(subset.issubset(my_set)) \n",
    "print(my_set.issuperset(subset))  \n",
    "\n",
    "\n",
    "subset2 = {2, 3}\n",
    "print(subset2.issubset(my_set))  \n",
    "print(my_set.issuperset(subset2))  \n",
    "\n",
    "\n",
    "subset3 = {9, 10}  \n",
    "print(subset3.issubset(my_set))  \n",
    "print(my_set.issuperset(subset3))  \n"
   ]
  },
  {
   "cell_type": "markdown",
   "id": "33dbb0a2-7186-4dcb-8898-ad6f2ddadfc4",
   "metadata": {},
   "source": [
    "### Set Operations (Union, Intersection, Difference)\n",
    "\n",
    "Python sets support various mathematical operations such as union, intersection, and difference. The union of two sets is a set containing all unique elements from both sets. The intersection is a set containing only elements that are in both sets. The difference is a set containing elements that are in one set but not in the other. Here is how you can perform these operations:\n"
   ]
  },
  {
   "cell_type": "code",
   "execution_count": 4,
   "id": "2449278b-300c-4b6b-8bd1-bbacde778c95",
   "metadata": {},
   "outputs": [
    {
     "name": "stdout",
     "output_type": "stream",
     "text": [
      "Union: {1, 2, 3, 4, 5}\n",
      "Intersection: {3}\n",
      "Difference: {1, 2}\n"
     ]
    }
   ],
   "source": [
    "\n",
    "set1 = {1, 2, 3}\n",
    "set2 = {3, 4, 5}\n",
    "\n",
    "\n",
    "union_result = set1.union(set2)          \n",
    "intersection_result = set1.intersection(set2)  \n",
    "difference_result = set1.difference(set2)  \n",
    "\n",
    "\n",
    "print(\"Union:\", union_result)  \n",
    "print(\"Intersection:\", intersection_result)  \n",
    "print(\"Difference:\", difference_result)  \n",
    "\n"
   ]
  },
  {
   "cell_type": "markdown",
   "id": "7d44dcb4-588a-4a21-acd1-98559f2da152",
   "metadata": {},
   "source": [
    "### Ordered Pairs and Cartesian Products\n",
    "\n",
    "An ordered pair is a pair of elements with the order of the elements being significant. The Cartesian product of two sets is the set of all possible ordered pairs where the first element is from the first set and the second element is from the second set. Here is an example:\n"
   ]
  },
  {
   "cell_type": "code",
   "execution_count": 8,
   "id": "7ea7075f-4296-42ac-9977-62b0e273bae9",
   "metadata": {},
   "outputs": [
    {
     "name": "stdout",
     "output_type": "stream",
     "text": [
      "Cartesian Product: A x B = {(2, 3), (2, 4), (1, 3), (1, 4)}\n"
     ]
    }
   ],
   "source": [
    "\n",
    "A = {1, 2}\n",
    "B = {3, 4}\n",
    "\n",
    "\n",
    "cartesian_product = {(a, b) for a in A for b in B}\n",
    "\n",
    "\n",
    "print(\"Cartesian Product: A x B =\", cartesian_product)\n"
   ]
  },
  {
   "cell_type": "markdown",
   "id": "eba3addd-7148-4a1c-ab18-14c7a8e1d3bf",
   "metadata": {},
   "source": [
    "### Cartesian Plane\n",
    "\n",
    "The Cartesian plane is a two-dimensional plane defined by an x-axis and a y-axis. Each point on the plane can be described by an ordered pair `(x, y)`. Here is an example of how to plot points from the Cartesian product on a Cartesian plane using matplotlib:\n"
   ]
  },
  {
   "cell_type": "code",
   "execution_count": 11,
   "id": "d88345fd-afce-4591-83fb-5eed00cb569a",
   "metadata": {},
   "outputs": [
    {
     "name": "stdout",
     "output_type": "stream",
     "text": [
      "Cartesian Product: A x B = {(2, 4), (3, 4), (1, 5), (1, 4), (2, 5), (3, 5)}\n",
      "\n",
      "Cartesian Plane Representation:\n",
      "(1,5) (2,5) (3,5) \n",
      "(1,4) (2,4) (3,4) \n"
     ]
    }
   ],
   "source": [
    "# Define sets\n",
    "A = {1, 2, 3}\n",
    "B = {4, 5}\n",
    "\n",
    "# Compute the Cartesian product\n",
    "cartesian_product = {(a, b) for a in A for b in B}\n",
    "\n",
    "# Print the Cartesian product\n",
    "print(\"Cartesian Product: A x B =\", cartesian_product)\n",
    "\n",
    "# Create a text-based Cartesian plane representation\n",
    "x_values = sorted(A)\n",
    "y_values = sorted(B, reverse=True)  # Reverse so highest y-values are printed first\n",
    "\n",
    "print(\"\\nCartesian Plane Representation:\")\n",
    "for y in y_values:\n",
    "    row = \"\"\n",
    "    for x in x_values:\n",
    "        if (x, y) in cartesian_product:\n",
    "            row += f\"({x},{y}) \"  # Mark the point\n",
    "        else:\n",
    "            row += \"       \"  # Space for alignment\n",
    "    print(row)\n",
    "\n",
    "\n"
   ]
  },
  {
   "cell_type": "markdown",
   "id": "32121114-08d7-4060-b837-baff62b3732c",
   "metadata": {},
   "source": [
    "### Relations\n",
    "\n",
    "A relation between two sets is a subset of the Cartesian product of those sets. It pairs elements from the first set with elements from the second set. Here is an example of a relation between two sets:\n"
   ]
  },
  {
   "cell_type": "code",
   "execution_count": 12,
   "id": "4371e044-8ea1-43d4-948a-b9331b43df6b",
   "metadata": {},
   "outputs": [
    {
     "name": "stdout",
     "output_type": "stream",
     "text": [
      "Relation R: {(2, 4), (1, 3)}\n",
      "Relation R2: {(2, 3), (1, 4)}\n",
      "Relation R3: {(1, 3), (1, 4)}\n"
     ]
    }
   ],
   "source": [
    "\n",
    "A = {1, 2}\n",
    "B = {3, 4}\n",
    "\n",
    "\n",
    "R = {(1, 3), (2, 4)}\n",
    "print(\"Relation R:\", R) \n",
    "\n",
    "\n",
    "R2 = {(1, 4), (2, 3)}\n",
    "print(\"Relation R2:\", R2)  \n",
    "\n",
    "\n",
    "R3 = {(1, 3), (1, 4)} \n",
    "print(\"Relation R3:\", R3)\n"
   ]
  },
  {
   "cell_type": "markdown",
   "id": "c812d4cc-06e0-4df8-8a76-98d71777b445",
   "metadata": {},
   "source": [
    "### Functions (Mathematical Definition)\n",
    "\n",
    "In mathematics, a function is a special type of relation where each element in the domain is associated with exactly one element in the codomain. Here is how you can define a function in Python and verify its properties:\n"
   ]
  },
  {
   "cell_type": "code",
   "execution_count": 13,
   "id": "f0cfa456-3c55-47fb-b09a-fd36062bb4b6",
   "metadata": {},
   "outputs": [
    {
     "name": "stdout",
     "output_type": "stream",
     "text": [
      "f is a function: True\n",
      "f2 is a function: False\n",
      "f3 is a function: True\n",
      "f4 is a function: False\n"
     ]
    }
   ],
   "source": [
    "def is_function(relation, domain):\n",
    "  \n",
    "    domain_elements = [pair[0] for pair in relation]\n",
    "    return all(domain_elements.count(e) == 1 for e in domain)\n",
    "\n",
    "A = {1, 2} \n",
    "B = {3, 4}  \n",
    "\n",
    "\n",
    "f = {(1, 3), (2, 4)}\n",
    "\n",
    "\n",
    "print(\"f is a function:\", is_function(f, A))\n",
    "\n",
    "\n",
    "f2 = {(1, 3), (1, 4)}  \n",
    "\n",
    "\n",
    "print(\"f2 is a function:\", is_function(f2, A))\n",
    "\n",
    "\n",
    "f3 = {(1, 3), (2, 3)} \n",
    "print(\"f3 is a function:\", is_function(f3, A))\n",
    "\n",
    "f4 = {(1, 3)}  \n",
    "print(\"f4 is a function:\", is_function(f4, A))\n"
   ]
  },
  {
   "cell_type": "code",
   "execution_count": null,
   "id": "c45db932-9917-4580-876f-a812f74875be",
   "metadata": {},
   "outputs": [],
   "source": []
  }
 ],
 "metadata": {
  "kernelspec": {
   "display_name": "Python 3",
   "language": "python",
   "name": "python3"
  },
  "language_info": {
   "codemirror_mode": {
    "name": "ipython",
    "version": 3
   },
   "file_extension": ".py",
   "mimetype": "text/x-python",
   "name": "python",
   "nbconvert_exporter": "python",
   "pygments_lexer": "ipython3",
   "version": "3.12.5"
  }
 },
 "nbformat": 4,
 "nbformat_minor": 5
}
